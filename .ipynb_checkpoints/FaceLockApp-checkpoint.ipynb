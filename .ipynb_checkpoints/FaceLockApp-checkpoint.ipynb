{
 "cells": [
  {
   "cell_type": "markdown",
   "metadata": {},
   "source": [
    "# Face Recognition – Unlock Your Computer With Your Face!"
   ]
  },
  {
   "cell_type": "code",
   "execution_count": 8,
   "metadata": {
    "scrolled": false
   },
   "outputs": [
    {
     "name": "stderr",
     "output_type": "stream",
     "text": [
      "<>:16: SyntaxWarning: \"is\" with a literal. Did you mean \"==\"?\n",
      "<>:16: SyntaxWarning: \"is\" with a literal. Did you mean \"==\"?\n",
      "<ipython-input-8-154175e9f57a>:16: SyntaxWarning: \"is\" with a literal. Did you mean \"==\"?\n",
      "  if faces is ():\n"
     ]
    },
    {
     "name": "stdout",
     "output_type": "stream",
     "text": [
      "Collecting Samples Complete\n"
     ]
    }
   ],
   "source": [
    "import cv2\n",
    "import numpy as np\n",
    "import time\n",
    "\n",
    "# Load HAAR face classifier\n",
    "face_classifier = cv2.CascadeClassifier('haarcascade_frontalface_default.xml')\n",
    "\n",
    "# Load functions\n",
    "def face_extractor(img):\n",
    "    # Function detects faces and returns the cropped face\n",
    "    # If no face detected, it returns the input image\n",
    "    \n",
    "    gray = cv2.cvtColor(img,cv2.COLOR_BGR2GRAY)\n",
    "    faces = face_classifier.detectMultiScale(gray, 1.3, 5)\n",
    "    \n",
    "    if faces is ():\n",
    "        return None\n",
    "    \n",
    "    # Crop all faces found\n",
    "    for (x,y,w,h) in faces:\n",
    "        cropped_face = img[y:y+h, x:x+w]\n",
    "\n",
    "    return cropped_face\n",
    "\n",
    "# Initialize Webcam\n",
    "cap = cv2.VideoCapture(0)\n",
    "count = 0\n",
    "\n",
    "# Collect 100 samples of your face from webcam input\n",
    "while True:\n",
    "\n",
    "    ret, frame = cap.read()\n",
    "    if face_extractor(frame) is not None:\n",
    "        count += 1\n",
    "        face = cv2.resize(face_extractor(frame), (200, 200))\n",
    "        face = cv2.cvtColor(face, cv2.COLOR_BGR2GRAY)\n",
    "\n",
    "        # Save file in specified directory with unique name\n",
    "        file_name_path = './faces/user/' + str(count) + '.jpg'\n",
    "        cv2.imwrite(file_name_path, face)\n",
    "\n",
    "        # Put count on images and display live count\n",
    "        cv2.putText(face, str(count), (50, 50), cv2.FONT_HERSHEY_COMPLEX, 1, (0,255,0), 2)\n",
    "        cv2.imshow('Face Cropper', face)\n",
    "        time.sleep(0.1)\n",
    "        \n",
    "    else:\n",
    "        print(\"Face not found\")\n",
    "        pass\n",
    "\n",
    "    if cv2.waitKey(1) == 13 or count == 100: #13 is the Enter Key\n",
    "        break\n",
    "        \n",
    "cap.release()\n",
    "cv2.destroyAllWindows()      \n",
    "print(\"Collecting Samples Complete\")"
   ]
  },
  {
   "cell_type": "code",
   "execution_count": 9,
   "metadata": {},
   "outputs": [],
   "source": [
    "cap.release()"
   ]
  },
  {
   "cell_type": "code",
   "execution_count": null,
   "metadata": {},
   "outputs": [],
   "source": []
  },
  {
   "cell_type": "code",
   "execution_count": null,
   "metadata": {},
   "outputs": [],
   "source": []
  },
  {
   "cell_type": "code",
   "execution_count": null,
   "metadata": {},
   "outputs": [],
   "source": []
  },
  {
   "cell_type": "markdown",
   "metadata": {},
   "source": [
    "# Step 2 - Train model"
   ]
  },
  {
   "cell_type": "code",
   "execution_count": 10,
   "metadata": {},
   "outputs": [
    {
     "name": "stdout",
     "output_type": "stream",
     "text": [
      "Model trained sucessefully\n"
     ]
    }
   ],
   "source": [
    "import cv2\n",
    "import numpy as np\n",
    "from os import listdir\n",
    "from os.path import isfile, join\n",
    "\n",
    "# Get the training data we previously made\n",
    "data_path = './faces/user/'\n",
    "onlyfiles = [f for f in listdir(data_path) if isfile(join(data_path, f))]\n",
    "\n",
    "# Create arrays for training data and labels\n",
    "Training_Data, Labels = [], []\n",
    "\n",
    "# Open training images in our datapath\n",
    "# Create a numpy array for training data\n",
    "for i, files in enumerate(onlyfiles):\n",
    "    image_path = data_path + onlyfiles[i]\n",
    "    images = cv2.imread(image_path, cv2.IMREAD_GRAYSCALE)\n",
    "    Training_Data.append(np.asarray(images, dtype=np.uint8))\n",
    "    Labels.append(i)\n",
    "\n",
    "# Create a numpy array for both training data and labels\n",
    "Labels = np.asarray(Labels, dtype=np.int32)\n",
    "\n",
    "# Initialize facial recognizer\n",
    "# model = cv2.face.createLBPHFaceRecognizer()\n",
    "# NOTE: For OpenCV 3.0 use cv2.face.createLBPHFaceRecognizer()\n",
    "# pip install opencv-contrib-python\n",
    "# model = cv2.createLBPHFaceRecognizer()\n",
    "\n",
    "facelock_model  = cv2.face_LBPHFaceRecognizer.create()\n",
    "# Let's train our model \n",
    "facelock_model.train(np.asarray(Training_Data), np.asarray(Labels))\n",
    "print(\"Model trained sucessefully\")\n",
    "\n"
   ]
  },
  {
   "cell_type": "markdown",
   "metadata": {},
   "source": [
    "# Send Mail"
   ]
  },
  {
   "cell_type": "code",
   "execution_count": 11,
   "metadata": {
    "scrolled": true
   },
   "outputs": [],
   "source": [
    "import smtplib\n",
    "import os\n",
    "import getpass\n",
    "import imghdr\n",
    "from os import environ \n",
    "from email.message import EmailMessage\n",
    "\n",
    "def send_email():\n",
    "    \n",
    "    message = EmailMessage()\n",
    "    \n",
    "    \n",
    "    #All variable values are set inside system's environmental variable\n",
    "    \n",
    "    \n",
    "    SenderMail = environ.get('SENDER_MAIL')  #mail id of sender\n",
    "    Recvmail = environ.get('RECEIVER_MAIL')    #password of sender\n",
    "    SenderPass = environ.get('SENDER_PASS')#mail id of receiver \n",
    "    \n",
    "    print(\"Sending mail....\")\n",
    "    \n",
    "    message['subject'] = \"This is text code by pratik\"\n",
    "    message['from'] = SenderMail\n",
    "    message['to'] = Recvmail\n",
    "    message.set_content(\"Welcome to Face recognition app\" )#it will only display if html content is not visible\n",
    "    html_message = open(\"mail.html\").read()\n",
    "    message.add_alternative(html_message , subtype = \"html\")\n",
    "    \n",
    "    with open(\"./image/Crop.jpg\" , \"rb\") as attach_file:\n",
    "        image_name = attach_file.name\n",
    "        image_type = imghdr.what(attach_file.name)\n",
    "        image_data = attach_file.read()\n",
    "        \n",
    "    message.add_attachment(image_data , maintype = \"image\",\n",
    "                          subtype = image_type , filename = \"FaceLock.jpg\"\n",
    "                          )\n",
    "    \n",
    "    with smtplib.SMTP_SSL(\"smtp.gmail.com\",465) as smtp:#to connect with gmail server\n",
    "        smtp.login(SenderMail,SenderPass)\n",
    "        smtp.send_message(message)\n",
    "        \n",
    "    print(\"Email Sent sucessfully\")\n",
    "    \n",
    "\n",
    "#send_email()"
   ]
  },
  {
   "cell_type": "markdown",
   "metadata": {},
   "source": [
    "# Send Whats App Message"
   ]
  },
  {
   "cell_type": "code",
   "execution_count": 12,
   "metadata": {},
   "outputs": [],
   "source": [
    "import pywhatkit              #pywhatkit library is used for whatsapp operation using python\n",
    "from datetime import datetime #datetime module to get current time\n",
    "\n",
    "def wpmsg():\n",
    "    now = datetime.now()           # Get current time\n",
    "    hr = int(now.strftime(\"%H\"))   # Current Hour\n",
    "    min = int( now.strftime(\"%M\"))  # Current mint\n",
    "    number = environ.get('MOB_NUMBER')\n",
    "    pywhatkit.sendwhatmsg(number,\"Hi Pratik , Someone tried to access your app\", hr,min+1 ,wait_time=10)\n"
   ]
  },
  {
   "cell_type": "code",
   "execution_count": 13,
   "metadata": {},
   "outputs": [],
   "source": [
    "#wpmsg()"
   ]
  },
  {
   "cell_type": "code",
   "execution_count": null,
   "metadata": {},
   "outputs": [],
   "source": []
  },
  {
   "cell_type": "code",
   "execution_count": null,
   "metadata": {},
   "outputs": [],
   "source": []
  },
  {
   "cell_type": "code",
   "execution_count": null,
   "metadata": {},
   "outputs": [],
   "source": []
  },
  {
   "cell_type": "markdown",
   "metadata": {},
   "source": [
    "# Access\n",
    "### Mail+whats app msg / AWS CLI (Launch EC2 ,  EBS and connect them)"
   ]
  },
  {
   "cell_type": "code",
   "execution_count": 20,
   "metadata": {},
   "outputs": [],
   "source": [
    "def aws_cli_access():\n",
    "    if FaceDetect == 70:\n",
    "        unlock = cv2.imread(\"./image/unlock.jpg\")\n",
    "        \n",
    "        cv2.putText(unlock, \"Access\", (45, 50) , cv2.FONT_HERSHEY_COMPLEX, 1, (0,0,255), 2)\n",
    "        cv2.putText(unlock, \"Granted\", (45, 100) , cv2.FONT_HERSHEY_COMPLEX, 1, (0,0,255), 2)\n",
    "        cv2.imshow(\"unlock\" , unlock)\n",
    "        cv2.waitKey(2000)\n",
    "        cv2.destroyAllWindows()\n",
    "        print(\"=============================================\")\n",
    "\n",
    "        print(\"Launching aws ec2 instance\")\n",
    "        instance = os.system(\"aws ec2 run-instances  --image-id ami-0ad704c126371a549 --count 1 --instance-type t2.micro --availability-zone ap-south-1a --tag-specifications  ResourceType=instance,Tags=[{Key=Name,Value=Task6}]\"\n",
    ")\n",
    "        if instance == 0:\n",
    "                print(\"EC2 instance launched!!!!\")\n",
    "        else:\n",
    "            print(\"There's something error here! Can't process ahead\")\n",
    "            break\n",
    "            \n",
    "            \n",
    "        print(\"=============================================\")\n",
    "        print(\"Launching EBS volume\")    \n",
    "        ebs_vol = os.system(\"aws ec2 create-volume --volume-type gp2 --size 10 --availability-zone ap-south-1a  --tag-specifications  ResourceType=volume,Tags=[{Key=Name,Value=Task6EBS}]\")  \n",
    "        if ebs_vol == 0:\n",
    "                print(\" EBS volume launched\")\n",
    "        else:\n",
    "            print(\"There's something error here! Can't process ahead\")\n",
    "            break\n",
    "        \n",
    "        print(\"=============================================\")    \n",
    "        print(\"Saving instance id and volume id in variables\")\n",
    "        instance_id = subprocess.getoutput(\"aws ec2 describe-instances --filters Name=tag:Name,Values=Task6 --query Reservations[*].Instances[*].[InstanceId] --output text\")\n",
    "        vol_id = subprocess.getoutput(\"aws ec2 describe-volumes  --filters Name=tag:Name,Values=Task6EBS --query Volumes[*].[VolumeId] --output text\")\n",
    "        \n",
    "        print(\"=============================================\")\n",
    "        print(\"Attaching EBS volume\")      \n",
    "        ebs_att = os.system(\"aws ec2 attach-volume --instance-id {0} --volume-id {1} --device /dev/sdf\".format(instance_id,vol_id))\n",
    "        if ebs_att == 0:\n",
    "            print(\"EBS volume attached with EC2 sucessfully\")\n",
    "        else:\n",
    "            print(\"There's something error here! Can't process ahead\")\n",
    "            break\n",
    "        print(\"=============================================\")\n",
    "        print(\"Infrastructure deployed\")\n",
    "        print(\"=============================================\")\n",
    "\n",
    "        \n",
    "        \n",
    "    elif Anon == 120:\n",
    "        lock = cv2.imread(\"./image/lock.jpg\")\n",
    "        cv2.putText(lock, \"Access\", (45, 50) , cv2.FONT_HERSHEY_COMPLEX, 1, (0,0,255), 2)\n",
    "        cv2.putText(lock, \"Denied\", (45, 100) , cv2.FONT_HERSHEY_COMPLEX, 1, (0,0,255), 2)\n",
    "        cv2.imshow(\"lock\" , lock)\n",
    "        cv2.waitKey(200)\n",
    "        cv2.destroyAllWindows()\n",
    "        \n",
    "        face_anon = face_classifier.detectMultiScale(image, 1.3, 5)#This code will detect face from image \n",
    "        \n",
    "        for x,y,w,h in face_anon:\n",
    "            cimg1 = image[y:y+h, x:x+w,  : ]#Here it crops the image using ordinates of image \n",
    "                  \n",
    "        #Below code was used to check output of cropped image\n",
    "        #cv2.imshow(\"hii\", cimg1)\n",
    "        #cv2.waitKey(200)\n",
    "        #cv2.destroyAllWindows()\n",
    "\n",
    "        cv2.imwrite(\"./image/Crop.jpg\",cimg1)#This will save our cropped picture inside /image folder\n",
    "        print(\"=============================================\")\n",
    "\n",
    "        print(\"We are sending mail to owner of this account\")\n",
    "        send_email()\n",
    "        print(\"=============================================\")\n",
    "        print(\"Sending whats app msg to owner\")\n",
    "        wpmsg()\n",
    "        print(\"Message sent sucessfully to owner\")\n",
    "        print(\"=============================================\")"
   ]
  },
  {
   "cell_type": "code",
   "execution_count": null,
   "metadata": {},
   "outputs": [],
   "source": []
  },
  {
   "cell_type": "code",
   "execution_count": null,
   "metadata": {},
   "outputs": [],
   "source": []
  },
  {
   "cell_type": "code",
   "execution_count": null,
   "metadata": {},
   "outputs": [],
   "source": []
  },
  {
   "cell_type": "code",
   "execution_count": null,
   "metadata": {},
   "outputs": [],
   "source": []
  },
  {
   "cell_type": "code",
   "execution_count": 21,
   "metadata": {},
   "outputs": [],
   "source": [
    "cap.release()"
   ]
  },
  {
   "cell_type": "markdown",
   "metadata": {},
   "source": [
    "# Face Detection - Mail+Whats App msg / Deploy Infrastructure AWS CLI"
   ]
  },
  {
   "cell_type": "code",
   "execution_count": 22,
   "metadata": {},
   "outputs": [
    {
     "name": "stderr",
     "output_type": "stream",
     "text": [
      "<>:16: SyntaxWarning: \"is\" with a literal. Did you mean \"==\"?\n",
      "<>:16: SyntaxWarning: \"is\" with a literal. Did you mean \"==\"?\n",
      "<ipython-input-22-df0a4b750e69>:16: SyntaxWarning: \"is\" with a literal. Did you mean \"==\"?\n",
      "  if faces is ():\n"
     ]
    },
    {
     "name": "stdout",
     "output_type": "stream",
     "text": [
      "Your AWS infrastructure will be deployed\n",
      "=============================================\n",
      "Launching aws ec2 instance\n",
      "=============================================\n",
      "Launching EBS volume\n",
      " EBS volume launched\n",
      "=============================================\n",
      "Saving instance id and volume id in variables\n",
      "=============================================\n",
      "Attaching EBS volume\n",
      "=============================================\n",
      "Infrastructure deployed\n",
      "=============================================\n"
     ]
    }
   ],
   "source": [
    "import cv2\n",
    "import numpy as np\n",
    "import os\n",
    "import subprocess\n",
    "\n",
    "\n",
    "\n",
    "\n",
    "face_classifier = cv2.CascadeClassifier('haarcascade_frontalface_default.xml')\n",
    "\n",
    "def face_detector(img, size=0.5):\n",
    "    \n",
    "    # Convert image to grayscale\n",
    "    gray = cv2.cvtColor(img,cv2.COLOR_BGR2GRAY)\n",
    "    faces = face_classifier.detectMultiScale(gray, 1.3, 5)\n",
    "    if faces is ():\n",
    "        return img, []\n",
    "    \n",
    "    \n",
    "    for (x,y,w,h) in faces:\n",
    "        cv2.rectangle(img,(x,y),(x+w,y+h),(0,255,255),2)\n",
    "        roi = img[y:y+h, x:x+w]\n",
    "        roi = cv2.resize(roi, (200, 200))\n",
    "    return img, roi\n",
    "\n",
    "\n",
    "\n",
    "# Open Webcam\n",
    "cap = cv2.VideoCapture(0)\n",
    "FaceDetect = 0\n",
    "Anon = 0\n",
    "\n",
    "while True:\n",
    "\n",
    "    ret, frame = cap.read()\n",
    "    image, face = face_detector(frame)\n",
    "    \n",
    "    cv2.imwrite(\"Mypic.jpg\" , image )\n",
    "    \n",
    "    try:\n",
    "        face = cv2.cvtColor(face, cv2.COLOR_BGR2GRAY)\n",
    "\n",
    "        # Pass face to prediction model\n",
    "        # \"results\" comprises of a tuple containing the label and the confidence value\n",
    "\n",
    "        results = facelock_model.predict(face)\n",
    "\n",
    "        if results[1] < 500:\n",
    "            confidence = int( 100 * (1 - (results[1])/400) )\n",
    "            display_string = str(confidence) + '% Confident it is User'\n",
    "            \n",
    "        cv2.putText(image, display_string, (100, 120), cv2.FONT_HERSHEY_COMPLEX, 1, (255,120,150), 2)\n",
    "        \n",
    "        if confidence >= 90:\n",
    "            cv2.putText(image, \"Hii Pratik\", (250, 450), cv2.FONT_HERSHEY_COMPLEX, 1, (0,255,0), 2)\n",
    "            cv2.imshow('Face Recognition', image )\n",
    "            FaceDetect += 1\n",
    "            \n",
    "        #elif confidence < 90:\n",
    "        else:\n",
    "            cv2.putText(image, \"I dont know, who are you\", (250, 450), cv2.FONT_HERSHEY_COMPLEX, 1, (0,0,255), 2)\n",
    "            cv2.imshow('Face Recognition', image )\n",
    "            Anon += 1\n",
    "            \n",
    "            \n",
    "        #After matching with 70 frames it will break loop and go for next part where it will deploy infrastrure using terraform\n",
    "        if FaceDetect == 70:\n",
    "            print(\"Your AWS infrastructure will be deployed\") \n",
    "            break\n",
    "            \n",
    "            \n",
    "        #After fail to match with 70 frames it will break loop and go for next part where it will take pic of that user , crop it , send mail to owner with that pic and send whats app msg\n",
    "        elif Anon == 120:\n",
    "            print(\"Anon user\")\n",
    "            break\n",
    "            \n",
    "    except:\n",
    "        cv2.putText(image, \"No Face Found\", (220, 120) , cv2.FONT_HERSHEY_COMPLEX, 1, (0,0,255), 2)\n",
    "        cv2.putText(image, \"looking for face\", (250, 450), cv2.FONT_HERSHEY_COMPLEX, 1, (0,0,255), 2)\n",
    "        cv2.imshow('Face Recognition', image )\n",
    "        pass\n",
    "    \n",
    "    if cv2.waitKey(1) == 13: #13 is the Enter Key\n",
    "        break\n",
    "        \n",
    "\n",
    "cv2.destroyAllWindows()\n",
    "\n",
    "\n",
    "# To call function where we wrote condition for sending mail+whats app message if face is not detected\n",
    "#If it detects face , it will authenticate you and deploy terraform infrastructure\n",
    "aws_cli_access() \n",
    "\n",
    "cap.release()\n"
   ]
  },
  {
   "cell_type": "code",
   "execution_count": 4,
   "metadata": {},
   "outputs": [],
   "source": [
    "cap.release()"
   ]
  },
  {
   "cell_type": "code",
   "execution_count": null,
   "metadata": {},
   "outputs": [],
   "source": []
  },
  {
   "cell_type": "code",
   "execution_count": null,
   "metadata": {},
   "outputs": [],
   "source": []
  },
  {
   "cell_type": "code",
   "execution_count": null,
   "metadata": {},
   "outputs": [],
   "source": []
  },
  {
   "cell_type": "code",
   "execution_count": null,
   "metadata": {},
   "outputs": [],
   "source": []
  },
  {
   "cell_type": "markdown",
   "metadata": {},
   "source": [
    "# Access"
   ]
  },
  {
   "cell_type": "markdown",
   "metadata": {},
   "source": [
    "# Access  \n",
    "### Mail + Whats app msg / Terraform "
   ]
  },
  {
   "cell_type": "code",
   "execution_count": 32,
   "metadata": {},
   "outputs": [],
   "source": [
    "def terraform_access():\n",
    "    if FaceDetect == 70:\n",
    "        unlock = cv2.imread(\"./image/unlock.jpg\")\n",
    "        \n",
    "        cv2.putText(unlock, \"Access\", (45, 50) , cv2.FONT_HERSHEY_COMPLEX, 1, (0,0,255), 2)\n",
    "        cv2.putText(unlock, \"Granted\", (45, 100) , cv2.FONT_HERSHEY_COMPLEX, 1, (0,0,255), 2)\n",
    "        cv2.imshow(\"lock\" , unlock)\n",
    "        cv2.waitKey(2000)\n",
    "        cv2.destroyAllWindows()\n",
    "        print(\"=============================================\")\n",
    "\n",
    "        print(\"Launching aws infrastructure with terraform\")\n",
    "        print(\"=============================================\")\n",
    "\n",
    "        print(\"Installing required plugins\")\n",
    "        stream = os.popen('terraform init')\n",
    "        output = stream.readlines()\n",
    "        #output\n",
    "        for line in output:\n",
    "            print(line.strip())\n",
    "            \n",
    "        print(\"=============================================\")\n",
    "    \n",
    "        print(\"Deploying infrastructure\")\n",
    "        stream = os.popen('terraform apply -auto-approve')\n",
    "        output = stream.readlines()\n",
    "        #output\n",
    "        for line in output:\n",
    "            print(line.strip())    \n",
    "            \n",
    "        print(\"Infra deployed\")\n",
    "        print(\"=============================================\")\n",
    "\n",
    "        \n",
    "        \n",
    "    elif Anon == 120:\n",
    "        lock = cv2.imread(\"./image/lock.jpg\")\n",
    "        cv2.putText(lock, \"Access\", (45, 50) , cv2.FONT_HERSHEY_COMPLEX, 1, (0,0,255), 2)\n",
    "        cv2.putText(lock, \"Denied\", (45, 100) , cv2.FONT_HERSHEY_COMPLEX, 1, (0,0,255), 2)\n",
    "        cv2.imshow(\"lock\" , lock)\n",
    "        cv2.waitKey(200)\n",
    "        cv2.destroyAllWindows()\n",
    "        \n",
    "        face_anon = face_classifier.detectMultiScale(image, 1.3, 5)\n",
    "        \n",
    "        for x,y,w,h in face_anon:\n",
    "            cimg1 = image[y:y+h, x:x+w,  : ]\n",
    "        #cv2.imshow(\"hii\", cimg1)\n",
    "        #cv2.waitKey(200)\n",
    "        #cv2.destroyAllWindows()\n",
    "        \n",
    "        #cv2.imshow(\"lock\" , image)\n",
    "        #cv2.waitKey(200)\n",
    "        #cv2.destroyAllWindows()\n",
    "        #cimg1 = image[y:y+h, x:x+w]\n",
    "        cv2.imwrite(\"./image/Crop.jpg\",cimg1)\n",
    "        print(\"=============================================\")\n",
    "\n",
    "        print(\"We are sending mail to owner of this account\")\n",
    "        send_email()\n",
    "        print(\"=============================================\")\n",
    "        print(\"Sending whats app msg to owner\")\n",
    "        wpmsg()\n",
    "        print(\"Message sent sucessfully to owner\")\n",
    "        print(\"=============================================\")\n"
   ]
  },
  {
   "cell_type": "code",
   "execution_count": null,
   "metadata": {},
   "outputs": [],
   "source": []
  },
  {
   "cell_type": "code",
   "execution_count": null,
   "metadata": {},
   "outputs": [],
   "source": []
  },
  {
   "cell_type": "code",
   "execution_count": null,
   "metadata": {},
   "outputs": [],
   "source": []
  },
  {
   "cell_type": "markdown",
   "metadata": {},
   "source": [
    "#  Face Detection+mail+whatsapp+terraform"
   ]
  },
  {
   "cell_type": "code",
   "execution_count": 33,
   "metadata": {},
   "outputs": [
    {
     "name": "stderr",
     "output_type": "stream",
     "text": [
      "<>:15: SyntaxWarning: \"is\" with a literal. Did you mean \"==\"?\n",
      "<>:15: SyntaxWarning: \"is\" with a literal. Did you mean \"==\"?\n",
      "<ipython-input-33-3da19dd5d211>:15: SyntaxWarning: \"is\" with a literal. Did you mean \"==\"?\n",
      "  if faces is ():\n"
     ]
    }
   ],
   "source": [
    "import cv2\n",
    "import numpy as np\n",
    "import os\n",
    "import time\n",
    "\n",
    "\n",
    "\n",
    "face_classifier = cv2.CascadeClassifier('haarcascade_frontalface_default.xml')\n",
    "\n",
    "def face_detector(img, size=0.5):\n",
    "    \n",
    "    # Convert image to grayscale\n",
    "    gray = cv2.cvtColor(img,cv2.COLOR_BGR2GRAY)\n",
    "    faces = face_classifier.detectMultiScale(gray, 1.3, 5)\n",
    "    if faces is ():\n",
    "        return img, []\n",
    "    \n",
    "    \n",
    "    for (x,y,w,h) in faces:\n",
    "        cv2.rectangle(img,(x,y),(x+w,y+h),(0,255,255),2)\n",
    "        roi = img[y:y+h, x:x+w]\n",
    "        roi = cv2.resize(roi, (200, 200))\n",
    "    return img, roi\n",
    "\n",
    "\n",
    "\n",
    "# Open Webcam\n",
    "cap = cv2.VideoCapture(0)\n",
    "FaceDetect = 0\n",
    "Anon = 0\n",
    "\n",
    "while True:\n",
    "\n",
    "    ret, frame = cap.read()\n",
    "    \n",
    "    image, face = face_detector(frame)\n",
    "    cv2.imwrite(\"Mypic.jpg\" , image )\n",
    "    \n",
    "    try:\n",
    "        face = cv2.cvtColor(face, cv2.COLOR_BGR2GRAY)\n",
    "        results = vimal_model.predict(face)\n",
    "\n",
    "        if results[1] < 500:\n",
    "            confidence = int( 100 * (1 - (results[1])/400) )\n",
    "            display_string = str(confidence) + '% Confident it is User'\n",
    "            \n",
    "        cv2.putText(image, display_string, (100, 120), cv2.FONT_HERSHEY_COMPLEX, 1, (255,120,150), 2)\n",
    "        \n",
    "        if confidence >= 90:\n",
    "            cv2.putText(image, \"Hii Pratik\", (250, 450), cv2.FONT_HERSHEY_COMPLEX, 1, (0,255,0), 2)\n",
    "            cv2.imshow('Face Recognition', image )\n",
    "            FaceDetect += 1\n",
    "            \n",
    "        #elif confidence < 90:\n",
    "        else:\n",
    "            cv2.putText(image, \"I dont know, who are you\", (250, 450), cv2.FONT_HERSHEY_COMPLEX, 1, (0,0,255), 2)\n",
    "            cv2.imshow('Face Recognition', image )\n",
    "            Anon += 1\n",
    "            \n",
    "            \n",
    "        #After matching with 70 frames it will break loop and go for next part where it will deploy infrastrure using terraform\n",
    "        if FaceDetect == 70:\n",
    "            print(\"Your AWS infrastructure will be deployed\") \n",
    "            break\n",
    "            \n",
    "            \n",
    "        #After fail to match with 70 frames it will break loop and go for next part where it will take pic of that user , crop it , send mail to owner with that pic and send whats app msg\n",
    "        elif Anon == 120:\n",
    "            print(\"Anon user\")\n",
    "            break\n",
    "            \n",
    "    except:\n",
    "        cv2.putText(image, \"No Face Found\", (220, 120) , cv2.FONT_HERSHEY_COMPLEX, 1, (0,0,255), 2)\n",
    "        cv2.putText(image, \"looking for face\", (250, 450), cv2.FONT_HERSHEY_COMPLEX, 1, (0,0,255), 2)\n",
    "        cv2.imshow('Face Recognition', image )\n",
    "        pass\n",
    "    \n",
    "    if cv2.waitKey(1) == 13: #13 is the Enter Key\n",
    "        break\n",
    "        \n",
    "\n",
    "cv2.destroyAllWindows()\n",
    "\n",
    "\n",
    "# To call function where we wrote condition for sending mail+whats app message if face is not detected\n",
    "#If it detects face , it will authenticate you and deploy terraform infrastructure\n",
    "terraform_access() \n",
    "\n",
    "cap.release()\n"
   ]
  },
  {
   "cell_type": "code",
   "execution_count": 22,
   "metadata": {},
   "outputs": [],
   "source": [
    "cap.release()"
   ]
  },
  {
   "cell_type": "code",
   "execution_count": 25,
   "metadata": {},
   "outputs": [],
   "source": [
    "#test code to run terraform init command\n",
    "\n",
    "#stream = os.popen('terraform init')\n",
    "#output = stream.readlines()\n",
    "#output\n",
    "#for line in output:\n",
    "#   print(line.strip())\n",
    "\n"
   ]
  },
  {
   "cell_type": "code",
   "execution_count": 26,
   "metadata": {},
   "outputs": [],
   "source": [
    "#test code to run terraform apply command\n",
    "\n",
    "#stream = os.popen('terraform apply -auto-approve')\n",
    "#output = stream.readlines()\n",
    "#output\n",
    "#for line in output:\n",
    "#   print(line.strip())"
   ]
  },
  {
   "cell_type": "code",
   "execution_count": 28,
   "metadata": {},
   "outputs": [
    {
     "data": {
      "text/plain": [
       "0"
      ]
     },
     "execution_count": 28,
     "metadata": {},
     "output_type": "execute_result"
    }
   ],
   "source": [
    "#os.system(\"aws ec2 run-instances --image-id ami-0ad704c126371a549 --availability-zone ap-south-1a  --count 1 --instance-type t2.micro --tag-specifications  ResourceType=instance,Tags=[{Key=Name,Value=Task6}]\n",
    "os.system(\"aws ec2 run-instances  --image-id ami-0ad704c126371a549 --count 1 --instance-type t2.micro --tag-specifications  ResourceType=instance,Tags=[{Key=Name,Value=Task6}]\"\n",
    ")"
   ]
  },
  {
   "cell_type": "code",
   "execution_count": null,
   "metadata": {},
   "outputs": [],
   "source": []
  }
 ],
 "metadata": {
  "kernelspec": {
   "display_name": "Python 3",
   "language": "python",
   "name": "python3"
  },
  "language_info": {
   "codemirror_mode": {
    "name": "ipython",
    "version": 3
   },
   "file_extension": ".py",
   "mimetype": "text/x-python",
   "name": "python",
   "nbconvert_exporter": "python",
   "pygments_lexer": "ipython3",
   "version": "3.8.3"
  }
 },
 "nbformat": 4,
 "nbformat_minor": 4
}
